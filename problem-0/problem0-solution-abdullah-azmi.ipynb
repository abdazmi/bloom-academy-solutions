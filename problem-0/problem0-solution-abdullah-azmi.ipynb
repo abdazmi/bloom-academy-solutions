{
 "cells": [
  {
   "cell_type": "code",
   "execution_count": 1,
   "id": "dd984127-f4e0-4a9d-a156-8e21a2e17cf3",
   "metadata": {},
   "outputs": [],
   "source": [
    "def test_problem0():\n",
    "    fridge =['carrot', 'broccoli', 'asparagus', 'cauliflower','corn']\n",
    "    \n",
    "    items = ['Corn', 'beans', ' broccoli ']\n",
    "\n",
    "        \n",
    "    assert whereIsMyFood(fridge, items[0]) == f'{items[0]} is in 4', \"Letter case error!\"\n",
    "    print('1- Letter case test passed')\n",
    "    \n",
    "    assert whereIsMyFood(fridge, items[1]) == -1, \"Item not in the fidge!\"\n",
    "    print('2- Items NOT in fidge test passed ')\n",
    "    \n",
    "    assert whereIsMyFood(fridge, items[2]) == f'{items[2]} is in 1', \"Spaces in string error!\"\n",
    "    print('3- Spaces issues test passed ')"
   ]
  },
  {
   "cell_type": "code",
   "execution_count": 2,
   "id": "b8e473ab-a7f5-4458-b0c6-5d27e8b8d9c6",
   "metadata": {},
   "outputs": [],
   "source": [
    "def clean_str(x):\n",
    "    return x.lower().strip()"
   ]
  },
  {
   "cell_type": "code",
   "execution_count": 3,
   "id": "81fed508-bb00-41c8-9e62-2423d6bc4735",
   "metadata": {},
   "outputs": [
    {
     "name": "stdout",
     "output_type": "stream",
     "text": [
      "1- Letter case test passed\n",
      "2- Items NOT in fidge test passed \n",
      "3- Spaces issues test passed \n"
     ]
    }
   ],
   "source": [
    "def whereIsMyFood(fridge, item):\n",
    "    for i in range(len(fridge)):\n",
    "        if clean_str(item) == clean_str(fridge[i]):\n",
    "            return f'{item} is in {i}'\n",
    "    else:\n",
    "        return -1\n",
    "    \n",
    "test_problem0()"
   ]
  },
  {
   "cell_type": "code",
   "execution_count": 4,
   "id": "549149a4-387a-42e2-abc9-e302acce8a70",
   "metadata": {},
   "outputs": [
    {
     "name": "stdin",
     "output_type": "stream",
     "text": [
      "What are you looking for? : corn\n"
     ]
    },
    {
     "name": "stdout",
     "output_type": "stream",
     "text": [
      "corn is in 4\n",
      "\n"
     ]
    },
    {
     "name": "stdin",
     "output_type": "stream",
     "text": [
      "Would you like to find somthing else? y/n n\n"
     ]
    },
    {
     "name": "stdout",
     "output_type": "stream",
     "text": [
      "Bye!\n"
     ]
    }
   ],
   "source": [
    "keepOn = True\n",
    "fridge =['Celery', 'Pumpkin', 'Asparagus', 'Spinach','Corn']\n",
    "\n",
    "while keepOn: \n",
    "    item = input(\"What are you looking for? :\")\n",
    "\n",
    "    print(whereIsMyFood(fridge, item), end='\\n\\n')\n",
    "    \n",
    "    lookForMore= input('Would you like to find somthing else? y/n')\n",
    "    \n",
    "    if lookForMore == 'n':\n",
    "        keepOn = False\n",
    "        print('Bye!')"
   ]
  }
 ],
 "metadata": {
  "kernelspec": {
   "display_name": "Python 3",
   "language": "python",
   "name": "python3"
  },
  "language_info": {
   "codemirror_mode": {
    "name": "ipython",
    "version": 3
   },
   "file_extension": ".py",
   "mimetype": "text/x-python",
   "name": "python",
   "nbconvert_exporter": "python",
   "pygments_lexer": "ipython3",
   "version": "3.9.4"
  }
 },
 "nbformat": 4,
 "nbformat_minor": 5
}
