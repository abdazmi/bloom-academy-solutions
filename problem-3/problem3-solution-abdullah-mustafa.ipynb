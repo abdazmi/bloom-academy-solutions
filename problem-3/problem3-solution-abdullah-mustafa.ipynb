{
 "cells": [
  {
   "cell_type": "markdown",
   "id": "e9b084c7-fc69-4872-b265-73b2d02af91f",
   "metadata": {},
   "source": [
    "## I'm not familiar with javascript\n",
    "So I did something similar in Python"
   ]
  },
  {
   "cell_type": "code",
   "execution_count": 1,
   "id": "cc44fae3-5019-4239-84e9-43b9ebd29c54",
   "metadata": {},
   "outputs": [],
   "source": [
    "def removeFromFridge(item, fridge):\n",
    "    if item in fridge.keys():\n",
    "        fridge.pop(item)\n",
    "    else:\n",
    "        print('No such item in fridge!')"
   ]
  },
  {
   "cell_type": "code",
   "execution_count": 2,
   "id": "8b8721fa-6212-4862-be62-374785d21ee1",
   "metadata": {},
   "outputs": [],
   "source": [
    "def addToFridge(item, fridge):\n",
    "    ingradient, quantity = item.split()\n",
    "    if ingradient in fridge.keys():\n",
    "        fridge.update( {ingradient: fridge[ingradient] + int(quantity)} )\n",
    "    else:\n",
    "        fridge[ingradient] = int(quantity)"
   ]
  },
  {
   "cell_type": "code",
   "execution_count": 3,
   "id": "70eea6c0-d854-4b81-b8d9-88162cbba008",
   "metadata": {},
   "outputs": [],
   "source": [
    "fridge = {'tomato': 3, \n",
    "          'onion': 3, \n",
    "          'olives': 3,\n",
    "          'carrot':3,\n",
    "          'broccoli':3,\n",
    "          'asparagus':3,}"
   ]
  },
  {
   "cell_type": "code",
   "execution_count": 4,
   "id": "4f071037-4753-475e-8b99-17233281fa6f",
   "metadata": {},
   "outputs": [
    {
     "name": "stdout",
     "output_type": "stream",
     "text": [
      "{'tomato': 10, 'onion': 3, 'olives': 3, 'carrot': 3, 'broccoli': 3, 'asparagus': 3}\n"
     ]
    }
   ],
   "source": [
    "addToFridge('tomato 7', fridge)\n",
    "print(fridge)"
   ]
  },
  {
   "cell_type": "code",
   "execution_count": 5,
   "id": "b3125bcd-d34f-4943-9f56-36b1f847b403",
   "metadata": {},
   "outputs": [
    {
     "name": "stdout",
     "output_type": "stream",
     "text": [
      "{'tomato': 10, 'onion': 3, 'olives': 3, 'carrot': 3, 'broccoli': 3, 'asparagus': 3, 'Beets': 10}\n"
     ]
    }
   ],
   "source": [
    "addToFridge('Beets 10', fridge)\n",
    "print(fridge)"
   ]
  },
  {
   "cell_type": "code",
   "execution_count": 6,
   "id": "f913e9aa-d0b0-47f0-976e-15ed280f8965",
   "metadata": {},
   "outputs": [
    {
     "name": "stdout",
     "output_type": "stream",
     "text": [
      "{'tomato': 10, 'onion': 3, 'carrot': 3, 'broccoli': 3, 'asparagus': 3, 'Beets': 10}\n"
     ]
    }
   ],
   "source": [
    "removeFromFridge('olives', fridge)\n",
    "print(fridge)"
   ]
  },
  {
   "cell_type": "code",
   "execution_count": 7,
   "id": "83be958c-cbd0-44a5-99b3-a360e8531ef8",
   "metadata": {},
   "outputs": [
    {
     "name": "stdout",
     "output_type": "stream",
     "text": [
      "{'onion': 3, 'carrot': 3, 'broccoli': 3, 'asparagus': 3, 'Beets': 10}\n"
     ]
    }
   ],
   "source": [
    "removeFromFridge('tomato', fridge)\n",
    "print(fridge) # I can use print in the function itself but I just wanted to make functions cleaner"
   ]
  }
 ],
 "metadata": {
  "kernelspec": {
   "display_name": "Python 3",
   "language": "python",
   "name": "python3"
  },
  "language_info": {
   "codemirror_mode": {
    "name": "ipython",
    "version": 3
   },
   "file_extension": ".py",
   "mimetype": "text/x-python",
   "name": "python",
   "nbconvert_exporter": "python",
   "pygments_lexer": "ipython3",
   "version": "3.9.4"
  }
 },
 "nbformat": 4,
 "nbformat_minor": 5
}
