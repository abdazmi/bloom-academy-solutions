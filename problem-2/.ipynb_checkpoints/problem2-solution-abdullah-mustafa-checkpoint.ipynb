{
 "cells": [
  {
   "cell_type": "code",
   "execution_count": 1,
   "id": "74566bbe-3c0f-4383-bf2f-104e2a1d9307",
   "metadata": {},
   "outputs": [],
   "source": [
    "def validateRecipeWithQuantity(fridge, ingredients):\n",
    "    for item in ingredients.keys():\n",
    "        if item not in fridge.keys() or ingredients[item] > fridge[item]:\n",
    "            return False\n",
    "    else:\n",
    "        return True"
   ]
  },
  {
   "cell_type": "code",
   "execution_count": 2,
   "id": "577c2701-8511-4463-a80f-f329ab71bffd",
   "metadata": {},
   "outputs": [
    {
     "name": "stdout",
     "output_type": "stream",
     "text": [
      "False\n"
     ]
    }
   ],
   "source": [
    "ingredients = {'tomato': 1, 'onion': 2};\n",
    "fridge = {'tomato': 1, 'onion': 1};\n",
    "print(validateRecipeWithQuantity(fridge, ingredients))"
   ]
  },
  {
   "cell_type": "code",
   "execution_count": 3,
   "id": "651665b8-eb5e-4fa8-9908-208d63cc61b2",
   "metadata": {},
   "outputs": [
    {
     "name": "stdout",
     "output_type": "stream",
     "text": [
      "True\n"
     ]
    }
   ],
   "source": [
    "ingredients = {'tomato': 2, 'onion': 3};\n",
    "fridge = {'tomato': 2, 'onion': 3, 'olives': 1};\n",
    "print(validateRecipeWithQuantity(fridge, ingredients))"
   ]
  },
  {
   "cell_type": "code",
   "execution_count": 4,
   "id": "ee6bfa90-6b45-40c4-baaf-0329e2a7289b",
   "metadata": {},
   "outputs": [
    {
     "name": "stdout",
     "output_type": "stream",
     "text": [
      "False\n"
     ]
    }
   ],
   "source": [
    "ingredients = {'tomato': 2, 'onion': 1, 'lettuce':4 };\n",
    "fridge = {'tomato': 2, 'onion': 3, 'olives': 1};\n",
    "print(validateRecipeWithQuantity(fridge, ingredients))"
   ]
  }
 ],
 "metadata": {
  "kernelspec": {
   "display_name": "Python 3",
   "language": "python",
   "name": "python3"
  },
  "language_info": {
   "codemirror_mode": {
    "name": "ipython",
    "version": 3
   },
   "file_extension": ".py",
   "mimetype": "text/x-python",
   "name": "python",
   "nbconvert_exporter": "python",
   "pygments_lexer": "ipython3",
   "version": "3.9.4"
  }
 },
 "nbformat": 4,
 "nbformat_minor": 5
}
