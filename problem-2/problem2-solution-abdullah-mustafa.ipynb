{
 "cells": [
  {
   "cell_type": "code",
   "execution_count": 1,
   "id": "95a08566-783d-4cbd-ab71-01d062aff87c",
   "metadata": {},
   "outputs": [],
   "source": [
    "def test_problem2(fun):\n",
    "    fridge = {'tomato': 3, 'onion': 3, 'corn':3, 'broccoli':3, 'beans':3,}\n",
    "    \n",
    "    \n",
    "    assert fun(fridge, {'olives': 1}) == False, \"Some items doesn't exist in fridge error!\"\n",
    "    print('1- Items not in fridge test passed')\n",
    "    \n",
    "    assert fun(fridge, {'corn':2, 'broccoli':2, 'beans':2}) == True, 'Some Itesm not exist in fridge!'\n",
    "    print('2- All items are in the fridge')\n",
    "    \n",
    "    assert fun(fridge, {'corn':4}) ==False, 'Items quantity is more than in the fridge it should be False'\n",
    "    assert fun(fridge, {'corn':3}) ==True, 'Items quantity is less than in the fridge it should be True'\n",
    "    print('3- Quantity of items are sufficient')"
   ]
  },
  {
   "cell_type": "code",
   "execution_count": 2,
   "id": "74566bbe-3c0f-4383-bf2f-104e2a1d9307",
   "metadata": {},
   "outputs": [
    {
     "name": "stdout",
     "output_type": "stream",
     "text": [
      "1- Items not in fridge test passed\n",
      "2- All items are in the fridge\n",
      "3- Quantity of items are sufficient\n"
     ]
    }
   ],
   "source": [
    "def validateRecipeWithQuantity(fridge, ingredients):\n",
    "    for item in ingredients.keys():\n",
    "        if item not in fridge.keys() or ingredients[item] > fridge[item]:\n",
    "            return False\n",
    "    else:\n",
    "        return True\n",
    "test_problem2(validateRecipeWithQuantity)    "
   ]
  },
  {
   "cell_type": "code",
   "execution_count": 3,
   "id": "577c2701-8511-4463-a80f-f329ab71bffd",
   "metadata": {},
   "outputs": [
    {
     "name": "stdout",
     "output_type": "stream",
     "text": [
      "False\n"
     ]
    }
   ],
   "source": [
    "ingredients = {'tomato': 1, 'onion': 2}\n",
    "fridge = {'tomato': 1, 'onion': 1} # should return False\n",
    "print(validateRecipeWithQuantity(fridge, ingredients))"
   ]
  },
  {
   "cell_type": "code",
   "execution_count": 4,
   "id": "651665b8-eb5e-4fa8-9908-208d63cc61b2",
   "metadata": {},
   "outputs": [
    {
     "name": "stdout",
     "output_type": "stream",
     "text": [
      "True\n"
     ]
    }
   ],
   "source": [
    "ingredients = {'tomato': 2, 'onion': 3}\n",
    "fridge = {'tomato': 2, 'onion': 3, 'olives': 1} #should return True\n",
    "print(validateRecipeWithQuantity(fridge, ingredients))"
   ]
  },
  {
   "cell_type": "code",
   "execution_count": 5,
   "id": "ee6bfa90-6b45-40c4-baaf-0329e2a7289b",
   "metadata": {},
   "outputs": [
    {
     "name": "stdout",
     "output_type": "stream",
     "text": [
      "False\n"
     ]
    }
   ],
   "source": [
    "ingredients = {'tomato': 2, 'onion': 1, 'lettuce':4 }\n",
    "fridge = {'tomato': 2, 'onion': 3, 'olives': 1} #should return False\n",
    "print(validateRecipeWithQuantity(fridge, ingredients))"
   ]
  }
 ],
 "metadata": {
  "kernelspec": {
   "display_name": "Python 3",
   "language": "python",
   "name": "python3"
  },
  "language_info": {
   "codemirror_mode": {
    "name": "ipython",
    "version": 3
   },
   "file_extension": ".py",
   "mimetype": "text/x-python",
   "name": "python",
   "nbconvert_exporter": "python",
   "pygments_lexer": "ipython3",
   "version": "3.9.4"
  }
 },
 "nbformat": 4,
 "nbformat_minor": 5
}
