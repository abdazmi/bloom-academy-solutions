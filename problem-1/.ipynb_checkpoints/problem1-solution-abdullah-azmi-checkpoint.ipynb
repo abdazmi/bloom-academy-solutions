{
 "cells": [
  {
   "cell_type": "code",
   "execution_count": 1,
   "id": "3850f0fc-2abb-4b54-9796-ee0e3b2e679e",
   "metadata": {},
   "outputs": [],
   "source": [
    "def test_problem1():\n",
    "    fridge =['carrot', 'broccoli', 'asparagus', 'cauliflower','corn']\n",
    "    \n",
    "    assert validateRecipe(fridge, ['Corn','BrOCColi']) == True, \"Letter case error!\"\n",
    "    print('1- Letter case test passed')\n",
    "    \n",
    "    assert validateRecipe(fridge, ['Corn', 'beans'] ) == False, 'Item not in fridge error!'\n",
    "    print('2- Items in fridge test passed')\n",
    "    \n",
    "    assert validateRecipe(fridge, ['Corn ', '  asparagus ', '  broccoli ']) == True, \" Spaces in str error!\"\n",
    "    print('3- Spaces in string test passed')"
   ]
  },
  {
   "cell_type": "code",
   "execution_count": 2,
   "id": "54b647e1-2b6d-41d3-9491-fca516eb5521",
   "metadata": {},
   "outputs": [],
   "source": [
    "def clean_str(x):\n",
    "    return x.lower().strip()"
   ]
  },
  {
   "cell_type": "code",
   "execution_count": 3,
   "id": "c77aee1f-fd99-402c-bac3-a56b3489d41a",
   "metadata": {},
   "outputs": [
    {
     "name": "stdout",
     "output_type": "stream",
     "text": [
      "1- Letter case test passed\n",
      "2- Items in fridge test passed\n",
      "3- Spaces in string test passed\n"
     ]
    }
   ],
   "source": [
    "def validateRecipe(fridge, ingradients):\n",
    "    for i in range(len(fridge)):\n",
    "        fridge[i] = clean_str(fridge[i])\n",
    "        \n",
    "    for item in ingradients:\n",
    "        if clean_str(item) not in fridge:\n",
    "            return False\n",
    "    else:\n",
    "        return True\n",
    "test_problem1() "
   ]
  },
  {
   "cell_type": "code",
   "execution_count": 4,
   "id": "eadf7cdb-019a-43ca-bb87-710703162ba5",
   "metadata": {},
   "outputs": [
    {
     "name": "stdout",
     "output_type": "stream",
     "text": [
      "True\n",
      "False\n"
     ]
    }
   ],
   "source": [
    "ingredients = ['Tomato ', '  onion', '  lettuce  '] # should return True\n",
    "ingredients1 = ['olives', 'onion', 'lettuce'] # should return False\n",
    "\n",
    "fridge = ['Tomato', 'Banana', 'Apple', 'Onion', 'Cucumber','Lettuce']    \n",
    "\n",
    "    \n",
    "print(validateRecipe(fridge, ingredients))\n",
    "print(validateRecipe(fridge, ingredients1))"
   ]
  }
 ],
 "metadata": {
  "kernelspec": {
   "display_name": "Python 3",
   "language": "python",
   "name": "python3"
  },
  "language_info": {
   "codemirror_mode": {
    "name": "ipython",
    "version": 3
   },
   "file_extension": ".py",
   "mimetype": "text/x-python",
   "name": "python",
   "nbconvert_exporter": "python",
   "pygments_lexer": "ipython3",
   "version": "3.9.4"
  }
 },
 "nbformat": 4,
 "nbformat_minor": 5
}
